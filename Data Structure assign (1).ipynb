{
 "cells": [
  {
   "cell_type": "code",
   "execution_count": 1,
   "id": "67c4bbaa-3730-4d75-85e0-8f8ba1926cab",
   "metadata": {},
   "outputs": [],
   "source": [
    "# topic :List"
   ]
  },
  {
   "cell_type": "code",
   "execution_count": 2,
   "id": "6d12fd3f-60ba-47e3-963d-507435e1054d",
   "metadata": {},
   "outputs": [],
   "source": [
    "#1. create a list of 5 random numbers and print the list"
   ]
  },
  {
   "cell_type": "code",
   "execution_count": 3,
   "id": "9d4c81f9-298c-41ef-a268-59aa74a81447",
   "metadata": {},
   "outputs": [
    {
     "data": {
      "text/plain": [
       "[10, 20, 30, 40, 50]"
      ]
     },
     "execution_count": 3,
     "metadata": {},
     "output_type": "execute_result"
    }
   ],
   "source": [
    "l1=[10,20,30,40,50]\n",
    "l1"
   ]
  },
  {
   "cell_type": "code",
   "execution_count": 4,
   "id": "8b4b43c4-f062-46e5-b480-b7d0a6837dab",
   "metadata": {},
   "outputs": [],
   "source": [
    "#2.insert 3 new values to the list and print the updated list"
   ]
  },
  {
   "cell_type": "code",
   "execution_count": 5,
   "id": "d99cf7f9-4d51-4a0f-9ed9-ebb8bb06716a",
   "metadata": {},
   "outputs": [
    {
     "name": "stdout",
     "output_type": "stream",
     "text": [
      "[10, 20, 30, 40, 50, 60, 70, 80]\n"
     ]
    }
   ],
   "source": [
    "l1.extend([60,70,80])\n",
    "print(l1)"
   ]
  },
  {
   "cell_type": "code",
   "execution_count": 6,
   "id": "286d9868-30c3-434d-be6d-a4d9160b395e",
   "metadata": {},
   "outputs": [],
   "source": [
    "#3.Access the third element in the list and print the element"
   ]
  },
  {
   "cell_type": "code",
   "execution_count": 7,
   "id": "c755efd0-9eb8-4f58-b1b7-850813c4af06",
   "metadata": {},
   "outputs": [
    {
     "name": "stdout",
     "output_type": "stream",
     "text": [
      "30\n"
     ]
    }
   ],
   "source": [
    "print(l1[2])"
   ]
  },
  {
   "cell_type": "code",
   "execution_count": 8,
   "id": "c4f7be7f-9c36-4fff-9cd4-84b25ccfe06f",
   "metadata": {},
   "outputs": [],
   "source": [
    "#  4 .create a new list of 3 random strings and concatenate the two lists into a third list."
   ]
  },
  {
   "cell_type": "code",
   "execution_count": 9,
   "id": "9831c2ae-3445-4f43-b6cf-9cc2f3c8386b",
   "metadata": {},
   "outputs": [],
   "source": [
    "s1=(\"apple\", \"orange\", \"banana\")"
   ]
  },
  {
   "cell_type": "code",
   "execution_count": 10,
   "id": "7ef82d1e-f887-4313-b0f2-35f08eada097",
   "metadata": {},
   "outputs": [],
   "source": [
    "s2=(\"red\",\"orange\",\"banana\")"
   ]
  },
  {
   "cell_type": "code",
   "execution_count": 11,
   "id": "4517fd6c-ae4a-4195-a679-50e94411d79f",
   "metadata": {},
   "outputs": [],
   "source": [
    "s3=s1+s2"
   ]
  },
  {
   "cell_type": "code",
   "execution_count": 12,
   "id": "dd329a1c-70c8-437d-b069-903eef012bb1",
   "metadata": {},
   "outputs": [
    {
     "data": {
      "text/plain": [
       "('apple', 'orange', 'banana', 'red', 'orange', 'banana')"
      ]
     },
     "execution_count": 12,
     "metadata": {},
     "output_type": "execute_result"
    }
   ],
   "source": [
    "s3"
   ]
  },
  {
   "cell_type": "code",
   "execution_count": null,
   "id": "9e8cd8b9-90bd-4e69-942a-611a8a770278",
   "metadata": {},
   "outputs": [],
   "source": []
  },
  {
   "cell_type": "code",
   "execution_count": 13,
   "id": "603bd5ec-8dde-47c5-951f-b724e65dab99",
   "metadata": {},
   "outputs": [],
   "source": [
    "#5.try to use a for loop to print each element in the list"
   ]
  },
  {
   "cell_type": "code",
   "execution_count": 14,
   "id": "2b4a4f3e-9114-4131-9e5a-88c2ea1e721b",
   "metadata": {},
   "outputs": [
    {
     "name": "stdout",
     "output_type": "stream",
     "text": [
      "apple\n",
      "orange\n",
      "banana\n",
      "red\n",
      "orange\n",
      "banana\n"
     ]
    }
   ],
   "source": [
    "for element in s3:\n",
    "    print(element)"
   ]
  },
  {
   "cell_type": "code",
   "execution_count": 15,
   "id": "8fe18a4a-8e35-4b35-9825-b786891bae4e",
   "metadata": {},
   "outputs": [],
   "source": [
    "#dictionary"
   ]
  },
  {
   "cell_type": "code",
   "execution_count": 16,
   "id": "cf063cbe-e3c9-47d2-af5a-678fef1905c8",
   "metadata": {},
   "outputs": [],
   "source": [
    "# 1.create a dictionary with keys'name,'age,and 'address' and 'values''john',25 and 'New York respectively'"
   ]
  },
  {
   "cell_type": "code",
   "execution_count": 15,
   "id": "43d33523-f065-4837-a523-9052963bf397",
   "metadata": {},
   "outputs": [
    {
     "data": {
      "text/plain": [
       "{'name': 'John', 'age': 25, 'address': 'New York'}"
      ]
     },
     "execution_count": 15,
     "metadata": {},
     "output_type": "execute_result"
    }
   ],
   "source": [
    "d2=dict(name='John' ,age=25,address='New York')\n",
    "d2"
   ]
  },
  {
   "cell_type": "code",
   "execution_count": 18,
   "id": "56ac6b9b-0344-4f15-8540-c5bd83b2dc6b",
   "metadata": {},
   "outputs": [],
   "source": [
    "#2.Add a new key-values pair to the dictionary created in Q1 with key 'phone and value'1234567890'."
   ]
  },
  {
   "cell_type": "code",
   "execution_count": 19,
   "id": "2cf8e214-4b59-4b11-971c-2222a364501b",
   "metadata": {},
   "outputs": [
    {
     "data": {
      "text/plain": [
       "{'name': 'John', 'age': 25, 'address': 'New York', 'phone': 1234567890}"
      ]
     },
     "execution_count": 19,
     "metadata": {},
     "output_type": "execute_result"
    }
   ],
   "source": [
    "d2['phone'] =1234567890\n",
    "d2"
   ]
  },
  {
   "cell_type": "code",
   "execution_count": 19,
   "id": "27acd79e-50d8-4085-a75b-847fc46c9300",
   "metadata": {},
   "outputs": [],
   "source": [
    "#3.Remove the key'address from the dictionary created in Q1"
   ]
  },
  {
   "cell_type": "code",
   "execution_count": 21,
   "id": "266063ca-b520-4ebb-9373-cb82711e7e1c",
   "metadata": {},
   "outputs": [
    {
     "data": {
      "text/plain": [
       "{'name': 'John', 'age': 25, 'phone': 1234567890}"
      ]
     },
     "execution_count": 21,
     "metadata": {},
     "output_type": "execute_result"
    }
   ],
   "source": [
    "del d2['address']\n",
    "d2"
   ]
  },
  {
   "cell_type": "code",
   "execution_count": 20,
   "id": "140618fc-2eea-4252-9a65-834493cc9af8",
   "metadata": {},
   "outputs": [],
   "source": [
    "#4.Print the value of the key 'age' from the dictionary created in Q1."
   ]
  },
  {
   "cell_type": "code",
   "execution_count": 23,
   "id": "dda7637f-709d-42e4-93b4-8756b10bdf46",
   "metadata": {},
   "outputs": [
    {
     "name": "stdout",
     "output_type": "stream",
     "text": [
      "25\n"
     ]
    }
   ],
   "source": [
    "print(d2['age'])"
   ]
  },
  {
   "cell_type": "code",
   "execution_count": 21,
   "id": "7352357e-4a50-4cbd-83c5-6442950eb59e",
   "metadata": {},
   "outputs": [],
   "source": [
    "#5.check if the key 'phone'exists in the dictionary created in Q1."
   ]
  },
  {
   "cell_type": "code",
   "execution_count": 25,
   "id": "0f0a912d-bea5-460d-998b-efc02fcab458",
   "metadata": {},
   "outputs": [
    {
     "data": {
      "text/plain": [
       "{'name': 'John', 'age': 25, 'phone': 1234567890}"
      ]
     },
     "execution_count": 25,
     "metadata": {},
     "output_type": "execute_result"
    }
   ],
   "source": [
    "d2"
   ]
  },
  {
   "cell_type": "code",
   "execution_count": 27,
   "id": "055c3d67-d4d5-4532-b8a4-1f9d62613c49",
   "metadata": {},
   "outputs": [
    {
     "name": "stdout",
     "output_type": "stream",
     "text": [
      "1234567890\n"
     ]
    }
   ],
   "source": [
    "print(d2['phone'])"
   ]
  },
  {
   "cell_type": "code",
   "execution_count": 22,
   "id": "0db58f03-eaad-4766-bdb9-94f750db4219",
   "metadata": {},
   "outputs": [],
   "source": [
    "#set"
   ]
  },
  {
   "cell_type": "code",
   "execution_count": null,
   "id": "0d7d700a-7bee-4a22-96e5-4020b0728d92",
   "metadata": {},
   "outputs": [],
   "source": [
    "#1.create a set with values 1,2,3,4, and 5."
   ]
  },
  {
   "cell_type": "code",
   "execution_count": 31,
   "id": "cda3b66b-c62a-4a33-8199-b6c78e1f164c",
   "metadata": {},
   "outputs": [],
   "source": [
    "s1={1,2,3,4,5}"
   ]
  },
  {
   "cell_type": "code",
   "execution_count": 33,
   "id": "dc4efe0c-df10-4133-8b77-7fcf50803c8a",
   "metadata": {},
   "outputs": [
    {
     "data": {
      "text/plain": [
       "{1, 2, 3, 4, 5}"
      ]
     },
     "execution_count": 33,
     "metadata": {},
     "output_type": "execute_result"
    }
   ],
   "source": [
    "s1"
   ]
  },
  {
   "cell_type": "code",
   "execution_count": null,
   "id": "279bcfda-848f-4244-b0b1-c19455b1fb3c",
   "metadata": {},
   "outputs": [],
   "source": [
    "# 2.Add values 6 to the set"
   ]
  },
  {
   "cell_type": "code",
   "execution_count": 35,
   "id": "c2caada8-5b93-413e-af18-f4a9d9989039",
   "metadata": {},
   "outputs": [
    {
     "data": {
      "text/plain": [
       "{1, 2, 3, 4, 5, 6}"
      ]
     },
     "execution_count": 35,
     "metadata": {},
     "output_type": "execute_result"
    }
   ],
   "source": [
    "s1.add(6)\n",
    "s1"
   ]
  },
  {
   "cell_type": "code",
   "execution_count": null,
   "id": "116cd32a-36fc-44e1-a363-048eb727873c",
   "metadata": {},
   "outputs": [],
   "source": [
    "# 3.Remove the value 3 from the set."
   ]
  },
  {
   "cell_type": "code",
   "execution_count": 37,
   "id": "622f7f1a-35fa-4e01-8703-597f5531b8d8",
   "metadata": {},
   "outputs": [
    {
     "data": {
      "text/plain": [
       "{1, 3, 4, 5, 6}"
      ]
     },
     "execution_count": 37,
     "metadata": {},
     "output_type": "execute_result"
    }
   ],
   "source": [
    "s1.remove(2)\n",
    "s1"
   ]
  },
  {
   "cell_type": "code",
   "execution_count": null,
   "id": "1280e679-b006-42f5-afc7-812160039ba9",
   "metadata": {},
   "outputs": [],
   "source": [
    " # 4. print the lenth of the set."
   ]
  },
  {
   "cell_type": "code",
   "execution_count": 41,
   "id": "4821f2b0-dfcf-4399-a0ca-ceddd468a792",
   "metadata": {},
   "outputs": [
    {
     "name": "stdout",
     "output_type": "stream",
     "text": [
      "length of the set: 5\n"
     ]
    }
   ],
   "source": [
    "print(\"length of the set:\",len(s1))"
   ]
  },
  {
   "cell_type": "code",
   "execution_count": null,
   "id": "4626ed1c-bf12-468a-8011-ef8e1f7d26f6",
   "metadata": {},
   "outputs": [],
   "source": [
    " # 5.create a new set by union of the set with another set{6,7,8}."
   ]
  },
  {
   "cell_type": "code",
   "execution_count": 43,
   "id": "d8e9aafb-f36b-446b-ac83-e7b74038c060",
   "metadata": {},
   "outputs": [],
   "source": [
    "s2={6,7,8}"
   ]
  },
  {
   "cell_type": "code",
   "execution_count": 45,
   "id": "51938a4c-3851-4f29-bb2f-4a2d9944ac67",
   "metadata": {},
   "outputs": [
    {
     "data": {
      "text/plain": [
       "{6, 7, 8}"
      ]
     },
     "execution_count": 45,
     "metadata": {},
     "output_type": "execute_result"
    }
   ],
   "source": [
    "s2"
   ]
  },
  {
   "cell_type": "code",
   "execution_count": 47,
   "id": "63cc1829-1d41-42e0-906d-e11006c78c7d",
   "metadata": {},
   "outputs": [],
   "source": [
    "s3=s1|s2"
   ]
  },
  {
   "cell_type": "code",
   "execution_count": 49,
   "id": "b283af5c-537c-49f1-868c-c7ba75d9ea3a",
   "metadata": {},
   "outputs": [
    {
     "data": {
      "text/plain": [
       "{1, 3, 4, 5, 6, 7, 8}"
      ]
     },
     "execution_count": 49,
     "metadata": {},
     "output_type": "execute_result"
    }
   ],
   "source": [
    "s3"
   ]
  },
  {
   "cell_type": "code",
   "execution_count": null,
   "id": "631d61dc-79d4-44b9-b58b-d1de225e6f96",
   "metadata": {},
   "outputs": [],
   "source": [
    " # Tuple"
   ]
  },
  {
   "cell_type": "code",
   "execution_count": null,
   "id": "af8932ef-e5d0-43a1-9a5a-c2b0d3da3a05",
   "metadata": {},
   "outputs": [],
   "source": [
    "# 1.create a tuple with values 1,2,3, and 4"
   ]
  },
  {
   "cell_type": "code",
   "execution_count": 51,
   "id": "72d53fea-2412-470f-9974-002ba6af2190",
   "metadata": {},
   "outputs": [],
   "source": [
    "t1=(1,2,3,4,)"
   ]
  },
  {
   "cell_type": "code",
   "execution_count": 53,
   "id": "d655dcbf-3a04-4fca-8e1c-08465f78b240",
   "metadata": {},
   "outputs": [
    {
     "data": {
      "text/plain": [
       "(1, 2, 3, 4)"
      ]
     },
     "execution_count": 53,
     "metadata": {},
     "output_type": "execute_result"
    }
   ],
   "source": [
    "t1"
   ]
  },
  {
   "cell_type": "code",
   "execution_count": null,
   "id": "5a1b02e4-a64e-40c3-999d-e539dc837c92",
   "metadata": {},
   "outputs": [],
   "source": [
    " # 2.print the lenth of the tuple."
   ]
  },
  {
   "cell_type": "code",
   "execution_count": 55,
   "id": "6aaaa8ea-b3da-4046-bdd3-d3aaac7f2f01",
   "metadata": {},
   "outputs": [
    {
     "name": "stdout",
     "output_type": "stream",
     "text": [
      "length of the tuple: 4\n"
     ]
    }
   ],
   "source": [
    "print(\"length of the tuple:\",len(t1))"
   ]
  },
  {
   "cell_type": "code",
   "execution_count": null,
   "id": "c37e75a5-8a4c-410a-9238-92704dd621c4",
   "metadata": {},
   "outputs": [],
   "source": [
    "# 3.create a new tuple by concatenating with another tuple (5,6).\n"
   ]
  },
  {
   "cell_type": "code",
   "execution_count": 57,
   "id": "fd8f55c6-6873-431e-bd03-f563e3961358",
   "metadata": {},
   "outputs": [],
   "source": [
    "t2=(5,6)"
   ]
  },
  {
   "cell_type": "code",
   "execution_count": 63,
   "id": "01e8085a-0f1e-423e-82ed-e5c20415a806",
   "metadata": {},
   "outputs": [
    {
     "data": {
      "text/plain": [
       "(1, 2, 3, 4, 5, 6)"
      ]
     },
     "execution_count": 63,
     "metadata": {},
     "output_type": "execute_result"
    }
   ],
   "source": [
    "t3=t1+t2\n",
    "t3"
   ]
  },
  {
   "cell_type": "code",
   "execution_count": null,
   "id": "48f8828f-4334-4093-adc7-c42c8a56c3c3",
   "metadata": {},
   "outputs": [],
   "source": [
    "# 4.print the first two values of the new tuple."
   ]
  },
  {
   "cell_type": "code",
   "execution_count": 71,
   "id": "ad32e434-8461-4cba-b2d9-8cf76ddfd63f",
   "metadata": {},
   "outputs": [
    {
     "name": "stdout",
     "output_type": "stream",
     "text": [
      "(2,)\n"
     ]
    }
   ],
   "source": [
    "print(t3[1:2])"
   ]
  },
  {
   "cell_type": "code",
   "execution_count": null,
   "id": "7892c1f5-3632-467c-8667-a374af1cdeaf",
   "metadata": {},
   "outputs": [],
   "source": [
    "# 5.check if the value 4 exist in the tuple."
   ]
  },
  {
   "cell_type": "code",
   "execution_count": 79,
   "id": "27020a36-25ce-4fa9-adfa-c7b1dcfed229",
   "metadata": {},
   "outputs": [
    {
     "name": "stdout",
     "output_type": "stream",
     "text": [
      "does 4 exist in the tuple? True\n"
     ]
    }
   ],
   "source": [
    "\n",
    "exists=4 in t3\n",
    "print(\"does 4 exist in the tuple?\",exists)"
   ]
  },
  {
   "cell_type": "code",
   "execution_count": null,
   "id": "a752a39a-0424-44ef-85e3-4308f2b1ae37",
   "metadata": {},
   "outputs": [],
   "source": [
    " # string,list,set,dictionary comprehension"
   ]
  },
  {
   "cell_type": "code",
   "execution_count": null,
   "id": "1f9a915e-8706-4488-9902-411d04234ee7",
   "metadata": {},
   "outputs": [],
   "source": [
    "Topic:string,list,set-dictionary comprehension\n"
   ]
  },
  {
   "cell_type": "code",
   "execution_count": null,
   "id": "bf173079-59b1-4f44-b81f-c21cb14df0ee",
   "metadata": {},
   "outputs": [],
   "source": [
    "#excercise 1\n",
    "Write a program that asks the user to enter his/her full name and the program process and manipulate the text of his/her name.\n",
    "An example run of the program (numbers in bold are typed in by the user)\n",
    "Please enter your first name: Peter\n",
    "Please enter your last name: Cambridge\n",
    "Your full name is PETER CAMBRIDGE\n",
    "Your initials are P C\n",
    "First name length is 5 letters\n",
    "Last name length is 9 letters\n",
    "Full name length is 14 letters\n",
    "First name starts with P\n",
    "First name ends with R\n",
    "Last name starts with C\n",
    "Last name ends with E\n",
    "First name indexes are 0 – 4\n",
    "Last name indexes are 0 – 8\n",
    "First name trims 1 Pet\n",
    "First name trims 2 eter\n",
    "Last name trims 1 Cam\n",
    "Last name trims 2 bridge"
   ]
  },
  {
   "cell_type": "code",
   "execution_count": null,
   "id": "0bbc17bf-7f16-4d64-b13e-af7a1ab6ae65",
   "metadata": {},
   "outputs": [],
   "source": [
    "# Function to manipulate and display name information\n",
    "def process_name():\n",
    "    # Get user input\n",
    "    first_name = input(\"Please enter your first name: \")\n",
    "    last_name = input(\"Please enter your last name: \")\n",
    "\n",
    "    # Process the names\n",
    "    full_name = f\"{first_name} {last_name}\"\n",
    "    full_name_upper = full_name.upper()\n",
    "    initials = f\"{first_name[0]} {last_name[0]}\"\n",
    "    \n",
    "    # Lengths of names\n",
    "    first_name_length = len(first_name)\n",
    "    last_name_length = len(last_name)\n",
    "    full_name_length = len(full_name)\n",
    "\n",
    "    # Start and end characters\n",
    "    first_name_starts = first_name[0]\n",
    "    first_name_ends = first_name[-1]\n",
    "    last_name_starts = last_name[0]\n",
    "    last_name_ends = last_name[-1]\n",
    "\n",
    "    # Index ranges\n",
    "    first_name_indexes = f\"0 – {first_name_length - 1}\"\n",
    "    last_name_indexes = f\"0 – {last_name_length - 1}\"\n",
    "\n",
    "    # Trimming the names\n",
    "    first_name_trim_1 = first_name[:-1]\n",
    "    first_name_trim_2 = first_name[1:]\n",
    "    last_name_trim_1 = last_name[:-1]\n",
    "    last_name_trim_2 = last_name[1:]\n",
    "\n",
    "    # Display results\n",
    "    print(f\"Your full name is {full_name_upper}\")\n",
    "    print(f\"Your initials are {initials}\")\n",
    "    print(f\"First name length is {first_name_length} letters\")\n",
    "    print(f\"Last name length is {last_name_length} letters\")\n",
    "    print(f\"Full name length is {full_name_length} letters\")\n",
    "    print(f\"First name starts with {first_name_starts}\")\n",
    "    print(f\"First name ends with {first_name_ends}\")\n",
    "    print(f\"Last name starts with {last_name_starts}\")\n",
    "    print(f\"Last name ends with {last_name_ends}\")\n",
    "    print(f\"First name indexes are {first_name_indexes}\")\n",
    "    print(f\"Last name indexes are {last_name_indexes}\")\n",
    "    print(f\"First name trims 1 {first_name_trim_1}\")\n",
    "    print(f\"First name trims 2 {first_name_trim_2}\")\n",
    "    print(f\"Last name trims 1 {last_name_trim_1}\")\n",
    "    print(f\"Last name trims 2 {last_name_trim_2}\")\n",
    "\n",
    "# Call the function to run the program\n",
    "process_name()"
   ]
  },
  {
   "cell_type": "code",
   "execution_count": null,
   "id": "40e4eddb-824f-4f2f-a24b-8e031decb8c4",
   "metadata": {},
   "outputs": [],
   "source": [
    "# excercise 2\n",
    "Write a program that asks the user to enter his/her name and then partly encrypt and display it.\n",
    "Name :John\n",
    "Encrypted name \"J**n\"\n"
   ]
  },
  {
   "cell_type": "code",
   "execution_count": 1,
   "id": "8199d3d7-e05f-4d8f-9181-3cfbefd9a858",
   "metadata": {},
   "outputs": [
    {
     "name": "stdin",
     "output_type": "stream",
     "text": [
      "Name: John\n"
     ]
    },
    {
     "name": "stdout",
     "output_type": "stream",
     "text": [
      "Encrypted name : J**n\n"
     ]
    }
   ],
   "source": [
    " #ask user for their name\n",
    "name = input(\"Name:\")\n",
    "\n",
    "#partly encrypt the name\n",
    "encrypted_name =name[0] +\"*\" * (len(name)-2) + name[-1]\n",
    " \n",
    "# print encrypted name\n",
    "print(f\"Encrypted name : {encrypted_name}\")"
   ]
  },
  {
   "cell_type": "code",
   "execution_count": null,
   "id": "29d3fe20-14dd-41f6-ba10-c35f1366fabe",
   "metadata": {},
   "outputs": [],
   "source": []
  },
  {
   "cell_type": "code",
   "execution_count": null,
   "id": "262ece95-32bb-4b6c-8b74-e3ca68bcedaf",
   "metadata": {},
   "outputs": [],
   "source": [
    "# Exercise3\n",
    "Write a python program to count the number of strings where the string is 2 or more and the first and last character are same from a given list of strings\n",
    "sample List:['abc','xyz','aba','1221']\n",
    "expected result:2\n"
   ]
  },
  {
   "cell_type": "code",
   "execution_count": 1,
   "id": "f7403102-12a0-4267-9e0f-dd45d86f046d",
   "metadata": {},
   "outputs": [
    {
     "data": {
      "text/plain": [
       "['abc', 'abc', 'xyz', 'aba', '1221']"
      ]
     },
     "execution_count": 1,
     "metadata": {},
     "output_type": "execute_result"
    }
   ],
   "source": [
    "s1=['abc','abc','xyz','aba','1221']\n",
    "s1"
   ]
  },
  {
   "cell_type": "code",
   "execution_count": 3,
   "id": "783a5a1f-48bd-4f1a-9022-1e89947137b1",
   "metadata": {},
   "outputs": [
    {
     "name": "stdout",
     "output_type": "stream",
     "text": [
      "5\n"
     ]
    }
   ],
   "source": [
    "print(len(s1))"
   ]
  },
  {
   "cell_type": "code",
   "execution_count": 11,
   "id": "a86060f0-d868-46fb-af49-6d1c1b70b06d",
   "metadata": {},
   "outputs": [
    {
     "name": "stdout",
     "output_type": "stream",
     "text": [
      "2\n"
     ]
    }
   ],
   "source": [
    "count = sum(1 for s in s1 if len(s) >=2 and s[0] == s[-1])\n",
    "print(count)"
   ]
  },
  {
   "cell_type": "code",
   "execution_count": null,
   "id": "2414da1c-66c8-4c3c-b06c-669c650b712f",
   "metadata": {},
   "outputs": [],
   "source": [
    "#4.exercise 4\n",
    "find all of the numbers from 1-1000 that are divisible by 7 using list comprehension.\n"
   ]
  },
  {
   "cell_type": "code",
   "execution_count": 13,
   "id": "337d33a6-0203-4cda-9f22-f016465f01f7",
   "metadata": {},
   "outputs": [
    {
     "name": "stdout",
     "output_type": "stream",
     "text": [
      "[7, 14, 21, 28, 35, 42, 49, 56, 63, 70, 77, 84, 91, 98, 105, 112, 119, 126, 133, 140, 147, 154, 161, 168, 175, 182, 189, 196, 203, 210, 217, 224, 231, 238, 245, 252, 259, 266, 273, 280, 287, 294, 301, 308, 315, 322, 329, 336, 343, 350, 357, 364, 371, 378, 385, 392, 399, 406, 413, 420, 427, 434, 441, 448, 455, 462, 469, 476, 483, 490, 497, 504, 511, 518, 525, 532, 539, 546, 553, 560, 567, 574, 581, 588, 595, 602, 609, 616, 623, 630, 637, 644, 651, 658, 665, 672, 679, 686, 693, 700, 707, 714, 721, 728, 735, 742, 749, 756, 763, 770, 777, 784, 791, 798, 805, 812, 819, 826, 833, 840, 847, 854, 861, 868, 875, 882, 889, 896, 903, 910, 917, 924, 931, 938, 945, 952, 959, 966, 973, 980, 987, 994]\n"
     ]
    }
   ],
   "source": [
    "numbers = [i for i in range(1,1000) if i % 7 == 0]\n",
    "print(numbers)"
   ]
  },
  {
   "cell_type": "code",
   "execution_count": null,
   "id": "ef67d9f1-125f-4156-bc48-3935c37e0c5e",
   "metadata": {},
   "outputs": [],
   "source": [
    "# 5.Create  dictionary from a list where the keys are the elements of the list and value of the dictionary is result after dividing the element by 3"
   ]
  },
  {
   "cell_type": "code",
   "execution_count": 17,
   "id": "17581051-de07-4630-a848-09ea8f6a8a7c",
   "metadata": {},
   "outputs": [
    {
     "name": "stdout",
     "output_type": "stream",
     "text": [
      "{1: 0.3333333333333333, 2: 0.6666666666666666, 3: 1.0, 4: 1.3333333333333333, 5: 1.6666666666666667}\n"
     ]
    }
   ],
   "source": [
    "# create dictionary from list\n",
    "numbers = [1,2,3,4,5]\n",
    "dictionary = {num: num / 3 for num in numbers}\n",
    "print(dictionary)"
   ]
  },
  {
   "cell_type": "code",
   "execution_count": null,
   "id": "6ac1af72-77a1-410f-a7c5-e566b37cba39",
   "metadata": {},
   "outputs": [],
   "source": [
    "\n"
   ]
  }
 ],
 "metadata": {
  "kernelspec": {
   "display_name": "Python 3 (ipykernel)",
   "language": "python",
   "name": "python3"
  },
  "language_info": {
   "codemirror_mode": {
    "name": "ipython",
    "version": 3
   },
   "file_extension": ".py",
   "mimetype": "text/x-python",
   "name": "python",
   "nbconvert_exporter": "python",
   "pygments_lexer": "ipython3",
   "version": "3.12.4"
  }
 },
 "nbformat": 4,
 "nbformat_minor": 5
}
